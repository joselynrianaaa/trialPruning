{
 "cells": [
  {
   "cell_type": "code",
   "execution_count": 1,
   "id": "9e14c057",
   "metadata": {},
   "outputs": [],
   "source": [
    "import torch as th\n",
    "import torch.nn as nn\n",
    "#from network import Network\n",
    "import torch.nn.functional as F\n",
    "#from pruningmethod import PruningMethod\n",
    "\n",
    "class LeNet(nn.Module):\n",
    "    def __init__(self):\n",
    "        super(LeNet, self).__init__()\n",
    "        self.conv1 = nn.Conv2d(1, 20, 5)\n",
    "        self.conv2 = nn.Conv2d(20, 50, 5)\n",
    "        self.fc1 = nn.Linear(50 * 4 * 4, 800)\n",
    "        self.fc2 = nn.Linear(800, 500)\n",
    "        self.fc3 = nn.Linear(500, 10)\n",
    "        self.a_type='relu'\n",
    "        #for m in self.modules():\n",
    "        #    self.weight_init(m)\n",
    "        self.softmax = nn.Softmax(dim=1)\n",
    "\n",
    "    def forward(self, x):\n",
    "        layer1 = F.max_pool2d(F.relu(self.conv1(x)), (2, 2))\n",
    "        layer2 = F.max_pool2d(F.relu(self.conv2(layer1)), 2)\n",
    "        layer2_p = layer2.view(-1, int(layer2.nelement() / layer2.shape[0]))\n",
    "        layer3= F.relu(self.fc1(layer2_p))\n",
    "        layer4 = F.relu(self.fc2(layer3))\n",
    "        layer5 = self.fc3(layer4)\n",
    "        return layer5"
   ]
  },
  {
   "cell_type": "code",
   "execution_count": 2,
   "id": "ec91874b",
   "metadata": {},
   "outputs": [
    {
     "name": "stdout",
     "output_type": "stream",
     "text": [
      "Checkpoint keys: dict_keys(['model', 'train_acc', 'test_acc', 'optimizer', 'scheduler'])\n",
      "\n",
      "Variables in the checkpoint:\n",
      "model: <class 'collections.OrderedDict'>\n",
      "train_acc: <class 'float'>\n",
      "test_acc: <class 'float'>\n",
      "optimizer: <class 'dict'>\n",
      "scheduler: <class 'dict'>\n"
     ]
    }
   ],
   "source": [
    "import torch\n",
    "\n",
    "# Load the checkpoint file\n",
    "checkpoint_path = \"base.pth\"\n",
    "checkpoint = torch.load(checkpoint_path)\n",
    "\n",
    "# Inspect the contents of the checkpoint\n",
    "print(\"Checkpoint keys:\", checkpoint.keys())\n",
    "\n",
    "# If it's a model state_dict, print the keys of the state_dict\n",
    "if 'state_dict' in checkpoint:\n",
    "    print(\"\\nState_dict keys:\", checkpoint['state_dict'].keys())\n",
    "\n",
    "# If the checkpoint is a state_dict itself (most common case)\n",
    "if isinstance(checkpoint, dict):\n",
    "    print(\"\\nVariables in the checkpoint:\")\n",
    "    for key, value in checkpoint.items():\n",
    "        print(f\"{key}: {type(value)}\")\n"
   ]
  },
  {
   "cell_type": "code",
   "execution_count": 3,
   "id": "47007079",
   "metadata": {},
   "outputs": [
    {
     "data": {
      "text/plain": [
       "<All keys matched successfully>"
      ]
     },
     "execution_count": 3,
     "metadata": {},
     "output_type": "execute_result"
    }
   ],
   "source": [
    "# Initialize your model\n",
    "model = LeNet()\n",
    "\n",
    "# Load the model state dictionary\n",
    "model.load_state_dict(checkpoint['model'])"
   ]
  },
  {
   "cell_type": "code",
   "execution_count": 4,
   "id": "4aab6b57",
   "metadata": {},
   "outputs": [
    {
     "name": "stdout",
     "output_type": "stream",
     "text": [
      "Test Accuracy: 99.02%\n"
     ]
    }
   ],
   "source": [
    "from torchvision import datasets, transforms\n",
    "trainloader = th.utils.data.DataLoader(datasets.MNIST('../data',\n",
    "                                                          download=True,\n",
    "                                                          train=True,\n",
    "                                                          transform=transforms.Compose([\n",
    "                                                              transforms.ToTensor(), # first, convert image to PyTorch tensor\n",
    "                                                              #transforms.Normalize((0.5,), (0.5,)) # normalize inputs\n",
    "                                                          ])),\n",
    "                                           batch_size=100,\n",
    "                                           shuffle=True,num_workers=0)\n",
    "\n",
    "# download and transform test dataset\n",
    "testloader = th.utils.data.DataLoader(datasets.MNIST('../data',\n",
    "                                                          download=True,\n",
    "                                                          train=False,\n",
    "                                                          transform=transforms.Compose([\n",
    "                                                              transforms.ToTensor(), # first, convert image to PyTorch tensor\n",
    "                                                              #transforms.Normalize((0.5,), (0.5,)) # normalize inputs\n",
    "                                                          ])),\n",
    "                                           batch_size=100,\n",
    "                                           shuffle=True,num_workers=0)\n",
    "\n",
    "model.eval()\n",
    "correct = 0\n",
    "total = 0\n",
    "\n",
    "with torch.no_grad():\n",
    "    for images, labels in testloader:\n",
    "        outputs = model(images)\n",
    "        _, predicted = torch.max(outputs.data, 1)\n",
    "        total += labels.size(0)\n",
    "        correct += (predicted == labels).sum().item()\n",
    "\n",
    "test_accuracy = 100 * correct / total\n",
    "print(f\"Test Accuracy: {test_accuracy:.2f}%\")"
   ]
  },
  {
   "cell_type": "code",
   "execution_count": 6,
   "id": "b55a5b97",
   "metadata": {},
   "outputs": [
    {
     "name": "stdout",
     "output_type": "stream",
     "text": [
      "[INFO] Register count_convNd() for <class 'torch.nn.modules.conv.Conv2d'>.\n",
      "[INFO] Register count_linear() for <class 'torch.nn.modules.linear.Linear'>.\n",
      "[INFO] Register count_softmax() for <class 'torch.nn.modules.activation.Softmax'>.\n",
      "FLOPs: 2933000.0\n",
      "Parameters: 1071880.0\n"
     ]
    }
   ],
   "source": [
    "from thop import profile\n",
    "\n",
    "# Input size for the model (e.g., (batch_size, num_channels, height, width))\n",
    "input = torch.randn(1, 1, 28, 28)\n",
    "\n",
    "# Calculate FLOPs and parameters\n",
    "flops, params = profile(model, inputs=(input,))\n",
    "\n",
    "print(f\"FLOPs: {flops}\")\n",
    "print(f\"Parameters: {params}\")"
   ]
  },
  {
   "cell_type": "code",
   "execution_count": null,
   "id": "e392fa80",
   "metadata": {},
   "outputs": [],
   "source": []
  }
 ],
 "metadata": {
  "kernelspec": {
   "display_name": "Python 3 (ipykernel)",
   "language": "python",
   "name": "python3"
  },
  "language_info": {
   "codemirror_mode": {
    "name": "ipython",
    "version": 3
   },
   "file_extension": ".py",
   "mimetype": "text/x-python",
   "name": "python",
   "nbconvert_exporter": "python",
   "pygments_lexer": "ipython3",
   "version": "3.10.12"
  }
 },
 "nbformat": 4,
 "nbformat_minor": 5
}
