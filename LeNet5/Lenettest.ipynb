{
 "cells": [
  {
   "cell_type": "code",
   "execution_count": 1,
   "id": "e9deadd2",
   "metadata": {},
   "outputs": [
    {
     "name": "stdout",
     "output_type": "stream",
     "text": [
      "Collecting ptflops\n",
      "  Downloading ptflops-0.7.3-py3-none-any.whl.metadata (9.0 kB)\n",
      "Requirement already satisfied: torch in /usr/local/lib/python3.10/dist-packages (from ptflops) (2.3.1)\n",
      "Requirement already satisfied: filelock in /usr/local/lib/python3.10/dist-packages (from torch->ptflops) (3.14.0)\n",
      "Requirement already satisfied: typing-extensions>=4.8.0 in /usr/local/lib/python3.10/dist-packages (from torch->ptflops) (4.10.0)\n",
      "Requirement already satisfied: sympy in /usr/local/lib/python3.10/dist-packages (from torch->ptflops) (1.12.1)\n",
      "Requirement already satisfied: networkx in /usr/local/lib/python3.10/dist-packages (from torch->ptflops) (3.2.1)\n",
      "Requirement already satisfied: jinja2 in /usr/local/lib/python3.10/dist-packages (from torch->ptflops) (3.1.3)\n",
      "Requirement already satisfied: fsspec in /usr/local/lib/python3.10/dist-packages (from torch->ptflops) (2024.2.0)\n",
      "Requirement already satisfied: nvidia-cuda-nvrtc-cu12==12.1.105 in /usr/local/lib/python3.10/dist-packages (from torch->ptflops) (12.1.105)\n",
      "Requirement already satisfied: nvidia-cuda-runtime-cu12==12.1.105 in /usr/local/lib/python3.10/dist-packages (from torch->ptflops) (12.1.105)\n",
      "Requirement already satisfied: nvidia-cuda-cupti-cu12==12.1.105 in /usr/local/lib/python3.10/dist-packages (from torch->ptflops) (12.1.105)\n",
      "Requirement already satisfied: nvidia-cudnn-cu12==8.9.2.26 in /usr/local/lib/python3.10/dist-packages (from torch->ptflops) (8.9.2.26)\n",
      "Requirement already satisfied: nvidia-cublas-cu12==12.1.3.1 in /usr/local/lib/python3.10/dist-packages (from torch->ptflops) (12.1.3.1)\n",
      "Requirement already satisfied: nvidia-cufft-cu12==11.0.2.54 in /usr/local/lib/python3.10/dist-packages (from torch->ptflops) (11.0.2.54)\n",
      "Requirement already satisfied: nvidia-curand-cu12==10.3.2.106 in /usr/local/lib/python3.10/dist-packages (from torch->ptflops) (10.3.2.106)\n",
      "Requirement already satisfied: nvidia-cusolver-cu12==11.4.5.107 in /usr/local/lib/python3.10/dist-packages (from torch->ptflops) (11.4.5.107)\n",
      "Requirement already satisfied: nvidia-cusparse-cu12==12.1.0.106 in /usr/local/lib/python3.10/dist-packages (from torch->ptflops) (12.1.0.106)\n",
      "Requirement already satisfied: nvidia-nccl-cu12==2.20.5 in /usr/local/lib/python3.10/dist-packages (from torch->ptflops) (2.20.5)\n",
      "Requirement already satisfied: nvidia-nvtx-cu12==12.1.105 in /usr/local/lib/python3.10/dist-packages (from torch->ptflops) (12.1.105)\n",
      "Requirement already satisfied: triton==2.3.1 in /usr/local/lib/python3.10/dist-packages (from torch->ptflops) (2.3.1)\n",
      "Requirement already satisfied: nvidia-nvjitlink-cu12 in /usr/local/lib/python3.10/dist-packages (from nvidia-cusolver-cu12==11.4.5.107->torch->ptflops) (12.5.40)\n",
      "Requirement already satisfied: MarkupSafe>=2.0 in /usr/local/lib/python3.10/dist-packages (from jinja2->torch->ptflops) (2.1.5)\n",
      "Requirement already satisfied: mpmath<1.4.0,>=1.1.0 in /usr/local/lib/python3.10/dist-packages (from sympy->torch->ptflops) (1.3.0)\n",
      "Downloading ptflops-0.7.3-py3-none-any.whl (18 kB)\n",
      "Installing collected packages: ptflops\n",
      "Successfully installed ptflops-0.7.3\n",
      "\u001b[33mWARNING: Running pip as the 'root' user can result in broken permissions and conflicting behaviour with the system package manager. It is recommended to use a virtual environment instead: https://pip.pypa.io/warnings/venv\u001b[0m\u001b[33m\n",
      "\u001b[0mNote: you may need to restart the kernel to use updated packages.\n"
     ]
    }
   ],
   "source": [
    "pip install ptflops"
   ]
  },
  {
   "cell_type": "code",
   "execution_count": 1,
   "id": "a0decf38",
   "metadata": {},
   "outputs": [],
   "source": [
    "import torch as th\n",
    "import torch.nn as nn\n",
    "import torch.nn.functional as F\n",
    "from torchvision import datasets, transforms\n",
    "from ptflops import get_model_complexity_info"
   ]
  },
  {
   "cell_type": "code",
   "execution_count": 2,
   "id": "2c293b91",
   "metadata": {},
   "outputs": [],
   "source": [
    "class LeNet(nn.Module):\n",
    "    def __init__(self):\n",
    "        super(LeNet, self).__init__()\n",
    "        self.conv1 = nn.Conv2d(1, 20, 5)\n",
    "        self.conv2 = nn.Conv2d(20, 50, 5)\n",
    "        self.fc1 = nn.Linear(50 * 4 * 4, 800)\n",
    "        self.fc2 = nn.Linear(800, 500)\n",
    "        self.fc3 = nn.Linear(500, 10)\n",
    "        self.a_type = 'relu'\n",
    "        self.softmax = nn.Softmax(dim=1)\n",
    "\n",
    "    def forward(self, x):\n",
    "        layer1 = F.max_pool2d(F.relu(self.conv1(x)), (2, 2))\n",
    "        layer2 = F.max_pool2d(F.relu(self.conv2(layer1)), 2)\n",
    "        layer2_p = layer2.view(-1, int(layer2.nelement() / layer2.shape[0]))\n",
    "        layer3 = F.relu(self.fc1(layer2_p))\n",
    "        layer4 = F.relu(self.fc2(layer3))\n",
    "        layer5 = self.fc3(layer4)\n",
    "        return layer5"
   ]
  },
  {
   "cell_type": "code",
   "execution_count": 6,
   "id": "4139bc58",
   "metadata": {},
   "outputs": [
    {
     "name": "stdout",
     "output_type": "stream",
     "text": [
      "Checkpoint keys: dict_keys(['model', 'train_acc', 'test_acc', 'optimizer', 'scheduler'])\n",
      "\n",
      "Variables in the checkpoint:\n",
      "model: <class 'collections.OrderedDict'>\n",
      "train_acc: <class 'float'>\n",
      "test_acc: <class 'float'>\n",
      "optimizer: <class 'dict'>\n",
      "scheduler: <class 'dict'>\n"
     ]
    },
    {
     "data": {
      "text/plain": [
       "<All keys matched successfully>"
      ]
     },
     "execution_count": 6,
     "metadata": {},
     "output_type": "execute_result"
    }
   ],
   "source": [
    "# Initialize your model\n",
    "model = LeNet()\n",
    "\n",
    "# Load the checkpoint file\n",
    "checkpoint_path = \"base.pth\"\n",
    "checkpoint = th.load(checkpoint_path)\n",
    "\n",
    "# Inspect the contents of the checkpoint\n",
    "print(\"Checkpoint keys:\", checkpoint.keys())\n",
    "\n",
    "# If the checkpoint is a state_dict itself (most common case)\n",
    "if isinstance(checkpoint, dict):\n",
    "    print(\"\\nVariables in the checkpoint:\")\n",
    "    for key, value in checkpoint.items():\n",
    "        print(f\"{key}: {type(value)}\")\n",
    "\n",
    "# Load the model state dictionary\n",
    "model.load_state_dict(checkpoint['model'])"
   ]
  },
  {
   "cell_type": "code",
   "execution_count": 7,
   "id": "412de6c2",
   "metadata": {},
   "outputs": [],
   "source": [
    "# Download and transform train dataset\n",
    "trainloader = th.utils.data.DataLoader(datasets.MNIST('../data',\n",
    "                                                      download=True,\n",
    "                                                      train=True,\n",
    "                                                      transform=transforms.Compose([\n",
    "                                                          transforms.ToTensor(),\n",
    "                                                      ])),\n",
    "                                       batch_size=100,\n",
    "                                       shuffle=True, num_workers=0)\n",
    "\n",
    "# Download and transform test dataset\n",
    "testloader = th.utils.data.DataLoader(datasets.MNIST('../data',\n",
    "                                                     download=True,\n",
    "                                                     train=False,\n",
    "                                                     transform=transforms.Compose([\n",
    "                                                         transforms.ToTensor(),\n",
    "                                                     ])),\n",
    "                                      batch_size=100,\n",
    "                                      shuffle=True, num_workers=0)"
   ]
  },
  {
   "cell_type": "code",
   "execution_count": 20,
   "id": "0e483077",
   "metadata": {
    "scrolled": true
   },
   "outputs": [],
   "source": [
    "# Compute FLOPs for only convolutional layers\n",
    "ignore_modules = [nn.Linear, nn.Softmax]"
   ]
  },
  {
   "cell_type": "code",
   "execution_count": 21,
   "id": "798bc4b1",
   "metadata": {},
   "outputs": [
    {
     "name": "stdout",
     "output_type": "stream",
     "text": [
      "Warning: module LeNet is treated as a zero-op.\n",
      "LeNet(\n",
      "  25.57 k, 2.386% Params, 1.9 MMac, 98.410% MACs, \n",
      "  (conv1): Conv2d(520, 0.049% Params, 299.52 KMac, 15.491% MACs, 1, 20, kernel_size=(5, 5), stride=(1, 1))\n",
      "  (conv2): Conv2d(25.05 k, 2.337% Params, 1.6 MMac, 82.919% MACs, 20, 50, kernel_size=(5, 5), stride=(1, 1))\n",
      "  (fc1): Linear(0, 0.000% Params, 0.0 Mac, 0.000% MACs, in_features=800, out_features=800, bias=True)\n",
      "  (fc2): Linear(0, 0.000% Params, 0.0 Mac, 0.000% MACs, in_features=800, out_features=500, bias=True)\n",
      "  (fc3): Linear(0, 0.000% Params, 0.0 Mac, 0.000% MACs, in_features=500, out_features=10, bias=True)\n",
      "  (softmax): Softmax(0, 0.000% Params, 0.0 Mac, 0.000% MACs, dim=1)\n",
      ")\n",
      "Computational complexity (Conv layers only): 1.93 MMac\n",
      "Number of parameters (Conv layers only): 1.07 M\n"
     ]
    }
   ],
   "source": [
    "# Compute FLOPs and parameters\n",
    "with th.cuda.device(0):\n",
    "    macs, params = get_model_complexity_info(model, (1, 28, 28), as_strings=True,\n",
    "                                             print_per_layer_stat=True, verbose=True, \n",
    "                                             ignore_modules=ignore_modules, backend='pytorch')\n",
    "    print(f\"Computational complexity (Conv layers only): {macs}\")\n",
    "    print(f\"Number of parameters (Conv layers only): {params}\")"
   ]
  },
  {
   "cell_type": "code",
   "execution_count": 16,
   "id": "cb05c2a4",
   "metadata": {},
   "outputs": [
    {
     "name": "stdout",
     "output_type": "stream",
     "text": [
      "Test Accuracy: 99.02%\n"
     ]
    }
   ],
   "source": [
    "# Evaluate the model\n",
    "model.eval()\n",
    "correct = 0\n",
    "total = 0\n",
    "\n",
    "with th.no_grad():\n",
    "    for images, labels in testloader:\n",
    "        outputs = model(images)\n",
    "        _, predicted = th.max(outputs.data, 1)\n",
    "        total += labels.size(0)\n",
    "        correct += (predicted == labels).sum().item()\n",
    "\n",
    "test_accuracy = 100 * correct / total\n",
    "print(f\"Test Accuracy: {test_accuracy:.2f}%\")"
   ]
  },
  {
   "cell_type": "code",
   "execution_count": 17,
   "id": "e3207c5c",
   "metadata": {},
   "outputs": [
    {
     "ename": "TypeError",
     "evalue": "unsupported operand type(s) for /: 'str' and 'float'",
     "output_type": "error",
     "traceback": [
      "\u001b[0;31m---------------------------------------------------------------------------\u001b[0m",
      "\u001b[0;31mTypeError\u001b[0m                                 Traceback (most recent call last)",
      "Cell \u001b[0;32mIn[17], line 2\u001b[0m\n\u001b[1;32m      1\u001b[0m \u001b[38;5;66;03m# Convert MACs to FLOPs (assuming 2 operations per MAC)\u001b[39;00m\n\u001b[0;32m----> 2\u001b[0m flops \u001b[38;5;241m=\u001b[39m \u001b[43mmacs\u001b[49m\u001b[43m \u001b[49m\u001b[38;5;241;43m/\u001b[39;49m\u001b[43m \u001b[49m\u001b[43m(\u001b[49m\u001b[38;5;241;43m2.0\u001b[39;49m\u001b[43m \u001b[49m\u001b[38;5;241;43m*\u001b[39;49m\u001b[43m \u001b[49m\u001b[38;5;241;43m10\u001b[39;49m\u001b[38;5;241;43m*\u001b[39;49m\u001b[38;5;241;43m*\u001b[39;49m\u001b[38;5;241;43m9\u001b[39;49m\u001b[43m)\u001b[49m  \u001b[38;5;66;03m# Convert to GFLOPs (10^9 FLOPs = 1 GFLOP)\u001b[39;00m\n\u001b[1;32m      4\u001b[0m \u001b[38;5;28mprint\u001b[39m(\u001b[38;5;124mf\u001b[39m\u001b[38;5;124m\"\u001b[39m\u001b[38;5;124mComputational complexity (Conv layers only): \u001b[39m\u001b[38;5;132;01m{\u001b[39;00mflops\u001b[38;5;132;01m:\u001b[39;00m\u001b[38;5;124m.2f\u001b[39m\u001b[38;5;132;01m}\u001b[39;00m\u001b[38;5;124m GFLOPs\u001b[39m\u001b[38;5;124m\"\u001b[39m)\n",
      "\u001b[0;31mTypeError\u001b[0m: unsupported operand type(s) for /: 'str' and 'float'"
     ]
    }
   ],
   "source": []
  },
  {
   "cell_type": "code",
   "execution_count": null,
   "id": "9bf0a428",
   "metadata": {},
   "outputs": [],
   "source": []
  }
 ],
 "metadata": {
  "kernelspec": {
   "display_name": "Python 3 (ipykernel)",
   "language": "python",
   "name": "python3"
  },
  "language_info": {
   "codemirror_mode": {
    "name": "ipython",
    "version": 3
   },
   "file_extension": ".py",
   "mimetype": "text/x-python",
   "name": "python",
   "nbconvert_exporter": "python",
   "pygments_lexer": "ipython3",
   "version": "3.10.12"
  }
 },
 "nbformat": 4,
 "nbformat_minor": 5
}
